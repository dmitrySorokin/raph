{
 "cells": [
  {
   "cell_type": "code",
   "execution_count": 20,
   "metadata": {},
   "outputs": [],
   "source": [
    "# this is copied from tile.c and made a Python list\n",
    "from minihack.tiles import GlyphMapper\n",
    "from nle_toolbox.wrappers.replay import Replay\n",
    "import pickle as pkl\n",
    "import gym\n",
    "from nle.nethack import ACTIONS\n",
    "\n",
    "import sys\n",
    "sys.path.append('../')\n",
    "from envs.wrappers import MinihackWrapper\n",
    "\n",
    "\n",
    "\n",
    "gm = GlyphMapper()\n",
    "\n",
    "\n",
    "# state_dict = pkl.load(open('../test_present/0050kxwl.pkl', 'rb'))\n",
    "# env = Replay(gym.make('NetHackChallenge-v0'))\n",
    "\n",
    "state_dict = pkl.load(open('../replays/_ox7refk.pkl', 'rb'))\n",
    "env = Replay(MinihackWrapper(gym.make('MiniHack-CorridorBattle-v0', actions=ACTIONS)))\n",
    "\n",
    "# force the seed\n",
    "env.seed(seed=state_dict['seed'])\n",
    "obs = env.reset()"
   ]
  },
  {
   "cell_type": "code",
   "execution_count": 21,
   "metadata": {},
   "outputs": [
    {
     "name": "stdout",
     "output_type": "stream",
     "text": [
      "[25, 4, 4, 5, 108, 102, 75, 40, 1, 40, 1, 40, 1, 40, 1, 1, 1, 1, 40, 1, 40, 1, 40, 1, 40, 1, 40, 1, 1, 40, 1, 40, 1, 40, 1, 40, 1, 40, 1, 1, 40, 1, 40, 1, 40, 1, 108, 102, 75, 108, 102, 75, 108, 102, 75, 108, 102, 75, 40, 1, 40, 1, 40, 1, 1, 1, 1, 4, 5, 1, 1, 4, 5, 4, 5, 4, 5, 5, 4, 4, 1, 1, 1, 1, 5, 5, 0, 1]\n"
     ]
    },
    {
     "name": "stderr",
     "output_type": "stream",
     "text": [
      "100%|███████████████████████████████████████████████████████████████████████████████████████████████████████████████████████████████████| 88/88 [00:00<00:00, 216.29it/s]\n"
     ]
    }
   ],
   "source": [
    "import IPython.display\n",
    "import PIL.Image\n",
    "import numpy as np\n",
    "import cv2\n",
    "from tqdm import tqdm\n",
    "\n",
    "\n",
    "TILE_SIZE = (16, 16, 3)\n",
    "DUNGEON_SIZE = (28, 80)\n",
    "\n",
    "\n",
    "font = cv2.FONT_HERSHEY_SIMPLEX\n",
    "fontScale = 0.5\n",
    "fontColor = (255,255,255)\n",
    "thickness = 1\n",
    "lineType = 2\n",
    "\n",
    "\n",
    "def render_text(array, text, bottom_left_corner):\n",
    "    cv2.putText(array, text, \n",
    "            bottom_left_corner, \n",
    "            font, \n",
    "            fontScale,\n",
    "            fontColor,\n",
    "            thickness,\n",
    "            lineType\n",
    "        )\n",
    "\n",
    "\n",
    "def render(obs):\n",
    "    # two line offset + one line text\n",
    "    img = [np.zeros((3 * TILE_SIZE[0], 80 * TILE_SIZE[1], 3), dtype=np.uint8)]\n",
    "\n",
    "    # 21 x 80\n",
    "    for row in obs['glyphs']:\n",
    "        img_row = []\n",
    "        for glyph in row:\n",
    "            img_row.append(gm.glyph_id_to_rgb(glyph))\n",
    "        img_row.append(np.zeros(TILE_SIZE, dtype=np.uint8))\n",
    "        img_row = np.concatenate(img_row, axis=1)\n",
    "        img.append(img_row)\n",
    "    \n",
    "    # one line offset + two lines text + bottom line\n",
    "    img.append(np.zeros((4 * TILE_SIZE[0], 80 * TILE_SIZE[1], 3), dtype=np.uint8))\n",
    "    img = np.concatenate(img, axis=0)\n",
    "    \n",
    "    for line_id, line in enumerate(obs['tty_chars'][22:]):\n",
    "        line = bytes(line).decode('ascii')\n",
    "        bottom_left_corner = (16, 16 * (25 + line_id * 1))\n",
    "        render_text(img, line, bottom_left_corner)\n",
    "    \n",
    "    line = bytes(obs['tty_chars'][0]).decode('ascii')\n",
    "    bottom_left_corner = (16, 16 * 3)\n",
    "    render_text(img, line, bottom_left_corner)\n",
    "\n",
    "    return img\n",
    "\n",
    "\n",
    "fps = 10 #25\n",
    "out = cv2.VideoWriter(\n",
    "    'output.mp4', \n",
    "    cv2.VideoWriter_fourcc(*'mp4v'), \n",
    "    fps, \n",
    "    (TILE_SIZE[1] * DUNGEON_SIZE[1], TILE_SIZE[0] * DUNGEON_SIZE[0])\n",
    ")\n",
    "\n",
    "print(state_dict['actions'])\n",
    "for i, act in tqdm(enumerate(state_dict['actions']), total=len(state_dict['actions'])):\n",
    "    obs, reward, done, info = env.step(act)\n",
    "    img = render(obs)\n",
    "    out.write(img)\n",
    "\n",
    "out.release()\n"
   ]
  },
  {
   "cell_type": "code",
   "execution_count": null,
   "metadata": {},
   "outputs": [],
   "source": []
  }
 ],
 "metadata": {
  "kernelspec": {
   "display_name": "Python 3 (ipykernel)",
   "language": "python",
   "name": "python3"
  },
  "language_info": {
   "codemirror_mode": {
    "name": "ipython",
    "version": 3
   },
   "file_extension": ".py",
   "mimetype": "text/x-python",
   "name": "python",
   "nbconvert_exporter": "python",
   "pygments_lexer": "ipython3",
   "version": "3.9.9"
  }
 },
 "nbformat": 4,
 "nbformat_minor": 4
}
